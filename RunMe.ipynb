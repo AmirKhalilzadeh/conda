{
 "cells": [
  {
   "cell_type": "code",
   "execution_count": 1,
   "metadata": {},
   "outputs": [],
   "source": [
    "import pandas as pd\n",
    "import seaborn as sns\n",
    "from sklearn import metrics\n",
    "import matplotlib.pyplot as plt\n",
    "from sklearn.metrics import precision_recall_curve\n",
    "from sklearn.linear_model import LogisticRegression\n",
    "from sklearn.metrics import precision_score, recall_score\n",
    "from sklearn.model_selection import train_test_split, cross_val_score, cross_val_predict, StratifiedKFold\n",
    "# import warnings\n",
    "# warnings.filterwarnings('ignore')"
   ]
  },
  {
   "cell_type": "code",
   "execution_count": null,
   "metadata": {},
   "outputs": [],
   "source": [
    "def get_data(visual):\n",
    "    data = pd.read_csv('diabetes.csv')\n",
    "\n",
    "    if data.isnull().sum().sum() >0:\n",
    "        print('stop and find the null')\n",
    "        \n",
    "    if visual=='Yes':\n",
    "        fig, axes = plt.subplots(4,2, figsize=(15,15))\n",
    "        for i, ax in zip(range(data.shape[1]-1), axes.flat):\n",
    "            sns.distplot(data[data.columns[i]],bins = 20, hist=True, ax=ax)\n",
    "\n",
    "    # Specific information about each variable is needed in order to find abnormal instance. \n",
    "    # However, it is easy to guess that for instance BMI cannot be zero. So I drop zero instances for BMI\n",
    "    data.drop(data[ data['BMI'] == 0 ].index, axis=0, inplace=True)\n",
    "    X = data.drop(['Outcome'],axis = 1)\n",
    "    y = data['Outcome']\n",
    "    # split with stratify to make sure we will have proportionate instances for the outcomes\n",
    "    X_train, X_test, y_train, y_test = train_test_split(X, y, stratify = y, random_state = 100)\n",
    "    return X_train, X_test, y_train, y_test"
   ]
  },
  {
   "cell_type": "code",
   "execution_count": null,
   "metadata": {},
   "outputs": [],
   "source": []
  },
  {
   "cell_type": "code",
   "execution_count": null,
   "metadata": {},
   "outputs": [],
   "source": []
  }
 ],
 "metadata": {
  "kernelspec": {
   "display_name": "Python 3",
   "language": "python",
   "name": "python3"
  },
  "language_info": {
   "codemirror_mode": {
    "name": "ipython",
    "version": 3
   },
   "file_extension": ".py",
   "mimetype": "text/x-python",
   "name": "python",
   "nbconvert_exporter": "python",
   "pygments_lexer": "ipython3",
   "version": "3.6.8"
  }
 },
 "nbformat": 4,
 "nbformat_minor": 2
}
