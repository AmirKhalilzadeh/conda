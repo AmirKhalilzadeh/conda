{
 "cells": [
  {
   "cell_type": "markdown",
   "metadata": {},
   "source": [
    "## <center>Answer to the sample learner question</center>\n",
    "<font size=\"3\">\n",
    "<div style=\"text-align: justify\"> \n",
    " \n",
    "Bellow you can find the answer to your questions which I list them as:\n",
    "\n",
    "- Do we always need to normalize our data? \n",
    "- When should we use min-max, or zero mean/unit variance scaling?\n",
    "- What's the difference between the two methods?\n",
    "\n",
    "***\n",
    "\n",
    "**Do we always need to normalize our data**? <br>\n",
    "Your question points out to something that we face in our everyday life when we are forming belief around a subject. Let me first bring up an example and then I will get back to your question.  \n",
    "Suppose that I want to buy a new car and I am thinking about several candidates. I am going to acquire some information about them before making my final decision. \n",
    "I look for sources of information about those cars and end up reading a forum where people discuss various cars including my candidates. My second source of information is some YouTube videos.\n",
    "It is very likely that the information I get from the videos will have a higher impact in building my belief due to their visual impact, and leave less room for the readings in the forum to contribute. \n",
    "However, that doesn’t necessarily mean that the visual information are more informative or important for my decision. It will be perhaps a difficult task for my brain to put all the information on an equal ground before allowing them to form my belief around the candidate cars.\n",
    "\n",
    "Back to your question, we need to normalize our data when we know that they have very different scales. \n",
    "For instance, unit of a feature is thousand dollars whereas another feature comes in decimal points.\n",
    "Note that by normalization we are not losing their information content. Note also that this \n",
    "is not a rule for every modeling task. Some models (e.g. tree based models) are not affected by the differences in scales. In general, it is expected that normalizing the data will help the optimization \n",
    "\n",
    "\n",
    "**When should we use min-max, or zero mean/unit variance scaling?**<br>\n",
    "The zero mean/unit variance scaling is well suited for the situation where the distribution of the data is close to normal (or bell-shaped). \n",
    "Also, sometimes the model (e.g. linear regression) that we select, may indicate if we need to use this type of scaling. Other than these cases, the min-max scaling can be used.\n",
    "\n",
    "\n",
    "**What's the difference between the two methods?**\n",
    "\n",
    "\n",
    "\n",
    "</div>\n",
    "</font>"
   ]
  }
 ],
 "metadata": {
  "kernelspec": {
   "display_name": "Python 3",
   "language": "python",
   "name": "python3"
  },
  "language_info": {
   "codemirror_mode": {
    "name": "ipython",
    "version": 3
   },
   "file_extension": ".py",
   "mimetype": "text/x-python",
   "name": "python",
   "nbconvert_exporter": "python",
   "pygments_lexer": "ipython3",
   "version": "3.6.8"
  }
 },
 "nbformat": 4,
 "nbformat_minor": 2
}
